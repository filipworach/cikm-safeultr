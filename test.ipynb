{
 "cells": [
  {
   "cell_type": "markdown",
   "metadata": {},
   "source": [
    "## Exposure\n",
    "We needed to change the type parameter to \"trust_bias\" in the click model yaml config file"
   ]
  },
  {
   "cell_type": "code",
   "execution_count": null,
   "metadata": {},
   "outputs": [],
   "source": [
    "for job_id in range(1, 11):\n",
    "    !python cltr_pytorch.py --risk 0 --noise 0.5 --job_id {job_id} --dataset Yahoo --num_sessions 400 --T 1.0"
   ]
  },
  {
   "cell_type": "code",
   "execution_count": null,
   "metadata": {},
   "outputs": [],
   "source": [
    "for job_id in range(1, 11):\n",
    "    !python cltr_pytorch.py --risk 1 --noise 0.5 --job_id {job_id} --dataset Yahoo --num_sessions 400 --T 1.0\n"
   ]
  },
  {
   "cell_type": "markdown",
   "metadata": {},
   "source": [
    "## Action\n",
    "We needed to change the type parameter to \"pbs\" in the click model yaml config file"
   ]
  },
  {
   "cell_type": "code",
   "execution_count": null,
   "metadata": {},
   "outputs": [],
   "source": [
    "for job_id in range(1, 11):\n",
    "    !python cltr_pytorch.py --risk 0 --noise 0.5 --job_id {job_id} --dataset Yahoo --num_sessions 400 --T 1.0"
   ]
  },
  {
   "cell_type": "code",
   "execution_count": null,
   "metadata": {},
   "outputs": [],
   "source": [
    "for job_id in range(1, 11):\n",
    "    !python cltr_pytorch.py --risk 1 --noise 0.5 --job_id {job_id} --dataset Yahoo --num_sessions 400 --T 1.0\n"
   ]
  }
 ],
 "metadata": {
  "kernelspec": {
   "display_name": "Python 3",
   "language": "python",
   "name": "python3"
  },
  "language_info": {
   "name": "python",
   "version": "3.9.6"
  }
 },
 "nbformat": 4,
 "nbformat_minor": 2
}
